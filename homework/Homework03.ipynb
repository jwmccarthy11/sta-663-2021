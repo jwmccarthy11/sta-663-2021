{
 "cells": [
  {
   "cell_type": "markdown",
   "metadata": {},
   "source": [
    "**1**. (20 points) \n",
    "\n",
    "Create a `pandas` DataFrame with these values\n",
    "\n",
    "|name|a-b-|a-b+|a+b-|a+b+|\n",
    "|-|-|-|-|-|\n",
    "|ann|1|2|3|4|\n",
    "|bob|5|6|7|8|\n",
    "\n",
    "Now convert it to another DataFrame so that it looks like\n",
    "\n",
    "|    | name   | a   | b   |   value |\n",
    "|---:|:-------|:----|:----|--------:|\n",
    "|  0 | ann    | -   | -   |       1 |\n",
    "|  2 | ann    | -   | +   |       2 |\n",
    "|  4 | ann    | +   | -   |       3 |\n",
    "|  6 | ann    | +   | +   |       4 |\n",
    "|  1 | bob    | -   | -   |       5 |\n",
    "|  3 | bob    | -   | +   |       6 |\n",
    "|  5 | bob    | +   | -   |       7 |\n",
    "|  7 | bob    | +   | +   |       8 |\n",
    "\n",
    "Note - all information used to construct the second DataFrame must be derived from the first one."
   ]
  },
  {
   "cell_type": "code",
   "execution_count": 440,
   "metadata": {},
   "outputs": [],
   "source": [
    "import re\n",
    "import numpy as np\n",
    "import matplotlib\n",
    "import matplotlib.pyplot as plt\n",
    "import pandas as pd\n",
    "from scipy import stats\n",
    "from itertools import product"
   ]
  },
  {
   "cell_type": "code",
   "execution_count": 441,
   "metadata": {},
   "outputs": [
    {
     "data": {
      "text/html": [
       "<div>\n",
       "<style scoped>\n",
       "    .dataframe tbody tr th:only-of-type {\n",
       "        vertical-align: middle;\n",
       "    }\n",
       "\n",
       "    .dataframe tbody tr th {\n",
       "        vertical-align: top;\n",
       "    }\n",
       "\n",
       "    .dataframe thead th {\n",
       "        text-align: right;\n",
       "    }\n",
       "</style>\n",
       "<table border=\"1\" class=\"dataframe\">\n",
       "  <thead>\n",
       "    <tr style=\"text-align: right;\">\n",
       "      <th></th>\n",
       "      <th>name</th>\n",
       "      <th>a-b-</th>\n",
       "      <th>a-b+</th>\n",
       "      <th>a+b-</th>\n",
       "      <th>a+b+</th>\n",
       "    </tr>\n",
       "  </thead>\n",
       "  <tbody>\n",
       "    <tr>\n",
       "      <th>0</th>\n",
       "      <td>ann</td>\n",
       "      <td>1</td>\n",
       "      <td>2</td>\n",
       "      <td>3</td>\n",
       "      <td>4</td>\n",
       "    </tr>\n",
       "    <tr>\n",
       "      <th>1</th>\n",
       "      <td>bob</td>\n",
       "      <td>5</td>\n",
       "      <td>6</td>\n",
       "      <td>7</td>\n",
       "      <td>8</td>\n",
       "    </tr>\n",
       "  </tbody>\n",
       "</table>\n",
       "</div>"
      ],
      "text/plain": [
       "  name  a-b-  a-b+  a+b-  a+b+\n",
       "0  ann     1     2     3     4\n",
       "1  bob     5     6     7     8"
      ]
     },
     "execution_count": 441,
     "metadata": {},
     "output_type": "execute_result"
    }
   ],
   "source": [
    "col = ['name', 'a-b-', 'a-b+', 'a+b-', 'a+b+']\n",
    "val = [['ann', 1, 2, 3, 4],\n",
    "       ['bob', 5, 6, 7, 8]]\n",
    "\n",
    "# original dataframe\n",
    "df = pd.DataFrame(val, columns=col)\n",
    "df"
   ]
  },
  {
   "cell_type": "code",
   "execution_count": 442,
   "metadata": {},
   "outputs": [
    {
     "data": {
      "text/html": [
       "<div>\n",
       "<style scoped>\n",
       "    .dataframe tbody tr th:only-of-type {\n",
       "        vertical-align: middle;\n",
       "    }\n",
       "\n",
       "    .dataframe tbody tr th {\n",
       "        vertical-align: top;\n",
       "    }\n",
       "\n",
       "    .dataframe thead th {\n",
       "        text-align: right;\n",
       "    }\n",
       "</style>\n",
       "<table border=\"1\" class=\"dataframe\">\n",
       "  <thead>\n",
       "    <tr style=\"text-align: right;\">\n",
       "      <th></th>\n",
       "      <th>name</th>\n",
       "      <th>a</th>\n",
       "      <th>b</th>\n",
       "      <th>value</th>\n",
       "    </tr>\n",
       "  </thead>\n",
       "  <tbody>\n",
       "    <tr>\n",
       "      <th>0</th>\n",
       "      <td>ann</td>\n",
       "      <td>-</td>\n",
       "      <td>-</td>\n",
       "      <td>1</td>\n",
       "    </tr>\n",
       "    <tr>\n",
       "      <th>2</th>\n",
       "      <td>ann</td>\n",
       "      <td>-</td>\n",
       "      <td>+</td>\n",
       "      <td>2</td>\n",
       "    </tr>\n",
       "    <tr>\n",
       "      <th>4</th>\n",
       "      <td>ann</td>\n",
       "      <td>+</td>\n",
       "      <td>-</td>\n",
       "      <td>3</td>\n",
       "    </tr>\n",
       "    <tr>\n",
       "      <th>6</th>\n",
       "      <td>ann</td>\n",
       "      <td>+</td>\n",
       "      <td>+</td>\n",
       "      <td>4</td>\n",
       "    </tr>\n",
       "    <tr>\n",
       "      <th>1</th>\n",
       "      <td>bob</td>\n",
       "      <td>-</td>\n",
       "      <td>-</td>\n",
       "      <td>5</td>\n",
       "    </tr>\n",
       "    <tr>\n",
       "      <th>3</th>\n",
       "      <td>bob</td>\n",
       "      <td>-</td>\n",
       "      <td>+</td>\n",
       "      <td>6</td>\n",
       "    </tr>\n",
       "    <tr>\n",
       "      <th>5</th>\n",
       "      <td>bob</td>\n",
       "      <td>+</td>\n",
       "      <td>-</td>\n",
       "      <td>7</td>\n",
       "    </tr>\n",
       "    <tr>\n",
       "      <th>7</th>\n",
       "      <td>bob</td>\n",
       "      <td>+</td>\n",
       "      <td>+</td>\n",
       "      <td>8</td>\n",
       "    </tr>\n",
       "  </tbody>\n",
       "</table>\n",
       "</div>"
      ],
      "text/plain": [
       "  name  a  b  value\n",
       "0  ann  -  -      1\n",
       "2  ann  -  +      2\n",
       "4  ann  +  -      3\n",
       "6  ann  +  +      4\n",
       "1  bob  -  -      5\n",
       "3  bob  -  +      6\n",
       "5  bob  +  -      7\n",
       "7  bob  +  +      8"
      ]
     },
     "execution_count": 442,
     "metadata": {},
     "output_type": "execute_result"
    }
   ],
   "source": [
    "# modified dataframe\n",
    "df = pd.melt(df, id_vars=['name'])                                            # wide to long on name\n",
    "df[['a', 'b']] = df.variable.str.replace('a', '').str.split('b', expand=True) # columns of sign following a and b\n",
    "df = df.drop(columns='variable').sort_values(by='name')                       # sort by name\n",
    "df['value'] = df.pop('value')                                                 # put value column at end like example\n",
    "df"
   ]
  },
  {
   "cell_type": "markdown",
   "metadata": {},
   "source": [
    "**2**. (20 points)\n",
    "\n",
    "Simulate $n$ coin toss experiments, in which you toss a coin $k$ times for each experiment. Find the maximum run length of heads (e.g. the sequence `T,T,H,H,H,T,H,H` has a maximum run length of 3 heads in each experiment.  What is the most common maximum run length?\n",
    "\n",
    "Let $n$ = 10,000 and $k=100$."
   ]
  },
  {
   "cell_type": "code",
   "execution_count": 443,
   "metadata": {},
   "outputs": [
    {
     "data": {
      "text/plain": [
       "5"
      ]
     },
     "execution_count": 443,
     "metadata": {},
     "output_type": "execute_result"
    }
   ],
   "source": [
    "def max_run(s):\n",
    "    \"\"\" \n",
    "    Finds longest sequence of heads\n",
    "    \"\"\"\n",
    "    return len(max(re.findall(r'H*', s), key=len))\n",
    "\n",
    "n = 10000\n",
    "k = 100\n",
    "\n",
    "# rows = experiment, cols = # of flips\n",
    "flips = list(map(''.join, np.random.choice(['H', 'T'], (n, k))))\n",
    "runs  = list(map(max_run, flips))\n",
    "\n",
    "# get most common length\n",
    "stats.mode(runs)[0][0]"
   ]
  },
  {
   "cell_type": "markdown",
   "metadata": {},
   "source": [
    "**3**. (20 points)\n",
    "\n",
    "Wikipedia gives this algorithm for finding prime numbers\n",
    "\n",
    "To find all the prime numbers less than or equal to a given integer n by Eratosthenes' method:\n",
    "\n",
    "- Create a list of consecutive integers from 2 through n: (2, 3, 4, ..., n).\n",
    "- Initially, let p equal 2, the smallest prime number.\n",
    "- Enumerate the multiples of p by counting to n from 2p in increments of p, and mark them in the list (these will be 2p, 3p, 4p, ...; the p itself should not be marked).\n",
    "- Find the first number greater than p in the list that is not marked. If there was no such number, stop. Otherwise, let p now equal this new number (which is the next prime), and repeat from step 3.\n",
    "- When the algorithm terminates, the numbers remaining not marked in the list are all the primes below n.\n",
    "\n",
    "Find all primes less than 1,000 using this method.\n",
    "\n",
    "- You may use `numpy` and do not have to follow the algorithm exactly if you can achieve the same results."
   ]
  },
  {
   "cell_type": "code",
   "execution_count": 444,
   "metadata": {
    "scrolled": true
   },
   "outputs": [
    {
     "data": {
      "text/plain": [
       "array([  1,   2,   3,   5,   7,  11,  13,  17,  19,  23,  29,  31,  37,\n",
       "        41,  43,  47,  53,  59,  61,  67,  71,  73,  79,  83,  89,  97,\n",
       "       101, 103, 107, 109, 113, 127, 131, 137, 139, 149, 151, 157, 163,\n",
       "       167, 173, 179, 181, 191, 193, 197, 199, 211, 223, 227, 229, 233,\n",
       "       239, 241, 251, 257, 263, 269, 271, 277, 281, 283, 293, 307, 311,\n",
       "       313, 317, 331, 337, 347, 349, 353, 359, 367, 373, 379, 383, 389,\n",
       "       397, 401, 409, 419, 421, 431, 433, 439, 443, 449, 457, 461, 463,\n",
       "       467, 479, 487, 491, 499, 503, 509, 521, 523, 541, 547, 557, 563,\n",
       "       569, 571, 577, 587, 593, 599, 601, 607, 613, 617, 619, 631, 641,\n",
       "       643, 647, 653, 659, 661, 673, 677, 683, 691, 701, 709, 719, 727,\n",
       "       733, 739, 743, 751, 757, 761, 769, 773, 787, 797, 809, 811, 821,\n",
       "       823, 827, 829, 839, 853, 857, 859, 863, 877, 881, 883, 887, 907,\n",
       "       911, 919, 929, 937, 941, 947, 953, 967, 971, 977, 983, 991, 997],\n",
       "      dtype=int64)"
      ]
     },
     "execution_count": 444,
     "metadata": {},
     "output_type": "execute_result"
    }
   ],
   "source": [
    "def sieve_of_eratosthenes(n):\n",
    "    \"\"\"\n",
    "    Return primes below n\n",
    "    \"\"\"\n",
    "    ints = np.ones(n, dtype=np.bool)\n",
    "    ints[0:1] = 0\n",
    "    \n",
    "    # factors come in pairs - only check until sqrt(n)\n",
    "    for i in range( 2, int( np.floor(np.sqrt(n) + 1) ) ):\n",
    "        if ints[i]:\n",
    "            ints[2*i::i] = 0\n",
    "    \n",
    "    return np.where(ints != 0)[0]\n",
    "\n",
    "sieve_of_eratosthenes(1000)"
   ]
  },
  {
   "cell_type": "markdown",
   "metadata": {},
   "source": [
    "**4**. (40 points)\n",
    "\n",
    "Write code to generate a plot similar to those shown below using the explanation for generation of 1D Cellular Automata found [here](http://mathworld.wolfram.com/ElementaryCellularAutomaton.html). You should only need to use standard Python, `numpy` and `matplotllib`.\n",
    "\n",
    "![automata](http://mathworld.wolfram.com/images/eps-gif/ElementaryCA_850.gif)\n",
    "\n",
    "\n",
    "\n",
    "The input to the function making the plots should be a simple list of rules\n",
    "\n",
    "```python\n",
    "rules = [30, 54, 60, 62, 90, 94, 102, 110, 122, 126, \n",
    "         150, 158, 182, 188, 190, 220, 222, 250]\n",
    "```\n",
    "\n",
    "which you feed into your `make_plots` function\n",
    "```python\n",
    "make_plots(rules, niter)\n",
    "```\n",
    "\n",
    "You may, of course, write other helper functions to keep your code modular."
   ]
  },
  {
   "cell_type": "code",
   "execution_count": 445,
   "metadata": {},
   "outputs": [
    {
     "data": {
      "image/png": "[encoded data removed]",
      "text/plain": [
       "<Figure size 576x921.6 with 18 Axes>"
      ]
     },
     "metadata": {
      "needs_background": "light"
     },
     "output_type": "display_data"
    }
   ],
   "source": [
    "matplotlib.rcParams['figure.figsize'] = [8, 64/5]\n",
    "matplotlib.rcParams['axes.titlesize'] = 10\n",
    "\n",
    "def run_automata(rule, n):\n",
    "    \"\"\"\n",
    "    Run automata of specific rule for n iter.\n",
    "    Returns np array of results\n",
    "    \"\"\"\n",
    "    k = 2*n+3 # width proportional to number of iterations\n",
    "    rule = np.unpackbits(np.uint8(rule))\n",
    "    cells = np.zeros((n, k), dtype=np.int)\n",
    "    cells[0, k//2] = 1\n",
    "\n",
    "    for i in range(n-1):\n",
    "        # 1) isolate consecutive triplets\n",
    "        # 2) convert triplets from binary repr. to decimal\n",
    "        # 3) use value as rule index to get value for next iter.\n",
    "        cells[i+1, 1:-1] = list(map(\n",
    "            lambda b: rule[7 - np.packbits(b, bitorder='little')[0]],\n",
    "            np.vstack([\n",
    "                cells[i, 2:], \n",
    "                cells[i, 1:-1], \n",
    "                cells[i, :-2]\n",
    "            ]).T \n",
    "        ))\n",
    "\n",
    "    # flip to look like examples, idk why\n",
    "    return cells[:, 1:-1]\n",
    "\n",
    "def make_plots(rules, niter):\n",
    "    \"\"\"\n",
    "    Plots automata of size niter based on rules\n",
    "    \"\"\"\n",
    "    sub_x, sub_y = 3, int(len(rules)//3 + (len(rules)%3!=0))\n",
    "    fig, ax = plt.subplots(sub_y, sub_x)\n",
    "    \n",
    "    for i, rule in enumerate(rules):\n",
    "        x, y = i%3, i//3\n",
    "        ax[y, x].imshow(run_automata(rule, niter), \n",
    "                        cmap='binary',\n",
    "                        interpolation=None)\n",
    "        ax[y, x].set_title('Rule {}'.format(rule))\n",
    "        ax[y, x].axis('off')\n",
    "        \n",
    "    # hide unused subplots (idk how else to do this)\n",
    "    for j in range(i, sub_x*sub_y):\n",
    "        x, y = j%3, j//3\n",
    "        ax[y, x].axis('off')\n",
    "        \n",
    "rules = [30, 54, 60, 62, 90, 94, 102, 110, 122,\n",
    "         126, 150, 158, 182, 188, 190, 220, 222, 250]\n",
    "\n",
    "make_plots(rules, 16)"
   ]
  },
  {
   "cell_type": "code",
   "execution_count": null,
   "metadata": {},
   "outputs": [],
   "source": []
  }
 ],
 "metadata": {
  "kernelspec": {
   "display_name": "Python 3",
   "language": "python",
   "name": "python3"
  },
  "language_info": {
   "codemirror_mode": {
    "name": "ipython",
    "version": 3
   },
   "file_extension": ".py",
   "mimetype": "text/x-python",
   "name": "python",
   "nbconvert_exporter": "python",
   "pygments_lexer": "ipython3",
   "version": "3.8.7"
  }
 },
 "nbformat": 4,
 "nbformat_minor": 2
}